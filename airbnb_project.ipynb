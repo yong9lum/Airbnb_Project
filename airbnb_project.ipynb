{
 "cells": [
  {
   "cell_type": "markdown",
   "metadata": {},
   "source": [
    "# Airbnb Project\n",
    "\n",
    "Airbnb is an online marketplace and hospitality service, enabling people to lease or rent short-term lodging including vacation rentals, apartment rentals, homestays, hostel beds, or hotel rooms. The company does not own any lodging; it is merely a broker & receives percentage service fees (commissions) from both guests & hosts in conjunction with every booking. In this project, there are 2 sections:\n",
    "\n",
    "1. [Exploratory Data Analysis](#1)\n",
    "\n",
    "I want to use questions to guide my exploration of the dataset, to pick up on any trends or insights on the different neighborhoods, the pricing, as well as the satisfaction levels based on reviews.\n",
    "\n",
    "2. [Application](#2)\n",
    "\n",
    "I want to create an application for customers to visualise possible listings on a map depending on their conditions for **price**, **overall satisfaction (number of stars)**, & **neighborhood**. Prospective hosts can also use the application to give them a gauge on the **price to set** per night for their listing, which will be calculated by taking the average prices of the other listings within the same neighborhood."
   ]
  },
  {
   "cell_type": "code",
   "execution_count": null,
   "metadata": {
    "scrolled": true
   },
   "outputs": [],
   "source": [
    "# importing the data\n",
    "\n",
    "import csv\n",
    "\n",
    "with open(\"airbnb_data.csv\", newline = \"\") as csvfile:\n",
    "    reader = csv.DictReader(csvfile)\n",
    "    airbnb_data = []\n",
    "    \n",
    "    for row in reader:\n",
    "        airbnb_data.append(dict(row))\n",
    "        \n",
    "print(airbnb_data[:3])"
   ]
  },
  {
   "cell_type": "markdown",
   "metadata": {},
   "source": [
    "## Data Cleaning"
   ]
  },
  {
   "cell_type": "code",
   "execution_count": null,
   "metadata": {},
   "outputs": [],
   "source": [
    "# changing the data type of all numerical values into appropriate data types\n",
    "\n",
    "for row in airbnb_data:\n",
    "    row[\"reviews\"] = int(row[\"reviews\"])\n",
    "    row[\"overall_satisfaction\"] = float(row[\"overall_satisfaction\"])\n",
    "    row[\"accommodates\"] = int(row[\"accommodates\"])\n",
    "    row[\"bedrooms\"] = float(row[\"bedrooms\"])\n",
    "    row[\"price\"] = float(row[\"price\"])\n",
    "    row[\"latitude\"] = float(row[\"latitude\"])\n",
    "    row[\"longitude\"] = float(row[\"longitude\"])\n",
    "    \n",
    "print(airbnb_data[:3])"
   ]
  },
  {
   "cell_type": "markdown",
   "metadata": {},
   "source": [
    "<a id='1'><h2><font color=\"salmon\">&nbsp;1.</font><font color=\"salmon\"> Exploratory Data Analysis </font> </h2></a>\n",
    "\n",
    "#### Q1. List out each neighborhoods & their number of listings"
   ]
  },
  {
   "cell_type": "code",
   "execution_count": null,
   "metadata": {},
   "outputs": [],
   "source": [
    "results1 = {}\n",
    "\n",
    "for row in airbnb_data:\n",
    "    neighborhood = row[\"neighborhood\"]\n",
    "   \n",
    "    if neighborhood not in results1:\n",
    "        results1[neighborhood ] = 1\n",
    "    else:\n",
    "        results1[neighborhood ] += 1\n",
    "\n",
    "print(results1)"
   ]
  },
  {
   "cell_type": "markdown",
   "metadata": {},
   "source": [
    "#### Q2. List out each neighborhood & their average overall_satisfaction"
   ]
  },
  {
   "cell_type": "code",
   "execution_count": null,
   "metadata": {},
   "outputs": [],
   "source": [
    "total_overall_satisfaction = {}\n",
    "total_count = {}\n",
    "\n",
    "for row in airbnb_data:\n",
    "    if row[\"reviews\"] > 0:\n",
    "        neighborhood = row[\"neighborhood\"]\n",
    "        overall_satisfaction = row[\"overall_satisfaction\"]   \n",
    "        \n",
    "        if neighborhood not in total_overall_satisfaction:\n",
    "            total_overall_satisfaction[neighborhood] = overall_satisfaction\n",
    "        else:\n",
    "            total_overall_satisfaction[neighborhood] += overall_satisfaction\n",
    "\n",
    "for row in airbnb_data:\n",
    "    if row[\"reviews\"] > 0:\n",
    "        neighborhood = row[\"neighborhood\"]\n",
    "        \n",
    "        if neighborhood not in total_count:\n",
    "            total_count[neighborhood] = 1\n",
    "        else:\n",
    "            total_count[neighborhood] += 1\n",
    "\n",
    "results2 = {}\n",
    "\n",
    "for neighborhood, count in total_count.items():\n",
    "    overall_satisfaction = total_overall_satisfaction[neighborhood]\n",
    "    results2[neighborhood] = round(overall_satisfaction / count, 2)\n",
    "    \n",
    "print(results2)"
   ]
  },
  {
   "cell_type": "markdown",
   "metadata": {},
   "source": [
    "#### Q3. List out each neighborhood & their average price"
   ]
  },
  {
   "cell_type": "code",
   "execution_count": null,
   "metadata": {
    "scrolled": true
   },
   "outputs": [],
   "source": [
    "total_price = {}\n",
    "total_count = {}\n",
    "\n",
    "for row in airbnb_data:\n",
    "    neighborhood = row[\"neighborhood\"]\n",
    "    price = row[\"price\"]\n",
    "    \n",
    "    if neighborhood not in total_price:\n",
    "        total_price[neighborhood] = price\n",
    "    else:\n",
    "        total_price[neighborhood] += price\n",
    "        \n",
    "for row in airbnb_data:\n",
    "    neighborhood = row[\"neighborhood\"]\n",
    "    \n",
    "    if neighborhood not in total_count:\n",
    "        total_count[neighborhood] = 1\n",
    "    else:\n",
    "        total_count[neighborhood] += 1\n",
    "        \n",
    "results3 = {}\n",
    "\n",
    "for neighborhood, count in total_count.items():\n",
    "    price = total_price[neighborhood]\n",
    "    results3[neighborhood] = round(price / count, 2)\n",
    "\n",
    "print(results3)"
   ]
  },
  {
   "cell_type": "markdown",
   "metadata": {},
   "source": [
    "#### Q4. Plot a distribution of counts of the overall_satisfaction"
   ]
  },
  {
   "cell_type": "code",
   "execution_count": null,
   "metadata": {},
   "outputs": [],
   "source": [
    "import matplotlib.pyplot as plt\n",
    "\n",
    "score_count = {}\n",
    "score_count_tuple = []\n",
    "\n",
    "for row in airbnb_data:\n",
    "    reviews = row[\"reviews\"]\n",
    "    overall_satisfaction = row[\"overall_satisfaction\"]\n",
    "    \n",
    "    if reviews > 0:\n",
    "        if overall_satisfaction not in score_count:\n",
    "            score_count[overall_satisfaction] = 1\n",
    "        else:\n",
    "            score_count[overall_satisfaction] += 1\n",
    "\n",
    "for data in score_count.items():\n",
    "    score_count_tuple.append(tuple(data))\n",
    "\n",
    "score = []\n",
    "count = []\n",
    "\n",
    "for row in score_count_tuple:\n",
    "    score.append(row[0])\n",
    "    count.append(row[1])\n",
    "\n",
    "x = score\n",
    "y = count\n",
    "\n",
    "plt.bar(x, y)\n",
    "plt.title(\"Distribution of Overall Satisfaction Scores\")\n",
    "plt.xlabel(\"Overall Satisfaction Scores\")\n",
    "plt.ylabel(\"Counts\")\n",
    "plt.show()"
   ]
  },
  {
   "cell_type": "markdown",
   "metadata": {},
   "source": [
    "#### Q5. Plot a geographical representation of all of the listings in Singapore"
   ]
  },
  {
   "cell_type": "code",
   "execution_count": null,
   "metadata": {},
   "outputs": [],
   "source": [
    "long_list = []\n",
    "lat_list = []\n",
    "\n",
    "for row in airbnb_data:\n",
    "    longitude = row[\"longitude\"]\n",
    "    latitude = row[\"latitude\"]\n",
    "    long_list.append(longitude)\n",
    "    lat_list.append(latitude)\n",
    "\n",
    "plt.scatter(long_list, lat_list)\n",
    "plt.title(\"Geographical Representation of all Airbnb Listings in Singapore\")\n",
    "plt.xlabel(\"Longitude\")\n",
    "plt.ylabel(\"Latitude\")\n",
    "plt.show()"
   ]
  },
  {
   "cell_type": "markdown",
   "metadata": {},
   "source": [
    "<a id='2'><h2><font color=\"salmon\">&nbsp;2.</font><font color=\"salmon\"> Creating an Airbnb Application for Customers & Hosts </font> </h2></a>"
   ]
  },
  {
   "cell_type": "code",
   "execution_count": null,
   "metadata": {},
   "outputs": [],
   "source": [
    "# creating a function to collect all the latitudes\n",
    "\n",
    "def get_all_latitude(data, r_listing_id):\n",
    "    results = []\n",
    "    \n",
    "    for row in data:\n",
    "        latitude = row[\"latitude\"]\n",
    "        listing_id = row[\"listing_id\"]\n",
    "        \n",
    "        if listing_id in r_listing_id:\n",
    "            results.append(latitude)\n",
    "            \n",
    "    return results"
   ]
  },
  {
   "cell_type": "code",
   "execution_count": null,
   "metadata": {},
   "outputs": [],
   "source": [
    "# creating a function to collect all the longitudes\n",
    "\n",
    "def get_all_longitude(data, r_listing_id):\n",
    "    results = []\n",
    "    \n",
    "    for row in data:\n",
    "        longitude = row[\"longitude\"]\n",
    "        listing_id = row[\"listing_id\"]\n",
    "        \n",
    "        if listing_id in r_listing_id:\n",
    "            results.append(longitude)\n",
    "            \n",
    "    return results"
   ]
  },
  {
   "cell_type": "code",
   "execution_count": null,
   "metadata": {},
   "outputs": [],
   "source": [
    "# create the function that recommends listings to users based on a given price, satisfaction score & neighborhood\n",
    "\n",
    "def listings_recommender(data, r_price, r_overall_satisfaction, r_neighborhood_id):\n",
    "    results = []\n",
    "    \n",
    "    for row in data:\n",
    "        price = row[\"price\"]\n",
    "        overall_satisfaction = row[\"overall_satisfaction\"]\n",
    "        neighborhood = row[\"neighborhood\"]\n",
    "        listing_id = row[\"listing_id\"]\n",
    "        \n",
    "        if price <= r_price and overall_satisfaction >= r_overall_satisfaction and neighborhood == r_neighborhood_id:\n",
    "            results.append(listing_id)\n",
    "    \n",
    "    return results"
   ]
  },
  {
   "cell_type": "code",
   "execution_count": null,
   "metadata": {},
   "outputs": [],
   "source": [
    "# creating a function to geographically visualise a given list of listings\n",
    "\n",
    "import mplleaflet\n",
    "import matplotlib.pyplot as plt\n",
    "\n",
    "def visualise_listings(data, list_of_listing_ids):\n",
    "    list_latitude = []\n",
    "    list_longitude = []\n",
    "    \n",
    "    for row in data:\n",
    "        latitude = row[\"latitude\"]\n",
    "        longitude = row[\"longitude\"]\n",
    "        listing_id = row[\"listing_id\"]\n",
    "        \n",
    "        if listing_id in list_of_listing_ids:\n",
    "            list_latitude.append(latitude)\n",
    "            list_longitude.append(longitude)\n",
    "            \n",
    "    plt.scatter(list_longitude, list_latitude, marker = \"*\", s = 500, c = \"red\")\n",
    "        \n",
    "    return mplleaflet.show()"
   ]
  },
  {
   "cell_type": "code",
   "execution_count": null,
   "metadata": {},
   "outputs": [],
   "source": [
    "# creating a function that tells hosts the recommended price to set based on the neighbourhood\n",
    "\n",
    "def price_recommender(data, r_neighborhood_id):\n",
    "    total_price = 0\n",
    "    count = 0\n",
    "    \n",
    "    for row in data:\n",
    "        reviews = row[\"reviews\"]\n",
    "        overall_satisfaction = row[\"overall_satisfaction\"]\n",
    "        neighborhood = row[\"neighborhood\"]\n",
    "        price = row[\"price\"]\n",
    "        \n",
    "        if reviews >= 1 and overall_satisfaction >= 4 and neighborhood == r_neighborhood_id:\n",
    "            total_price += price\n",
    "            count += 1\n",
    "            \n",
    "            recommended_price = float(total_price / count)\n",
    "            \n",
    "    return round(recommended_price, 2)"
   ]
  },
  {
   "cell_type": "markdown",
   "metadata": {},
   "source": [
    "## Using the Application\n",
    "\n",
    "#### For customers"
   ]
  },
  {
   "cell_type": "code",
   "execution_count": null,
   "metadata": {
    "scrolled": true
   },
   "outputs": [],
   "source": [
    "neighborhood_to_test = input(\"Which neighborhood would you like to look into?\").upper()\n",
    "price_to_test = float(input(\"What is your budget? ($)\"))\n",
    "overall_satisfaction_to_test = float(input(\"Overall satisfaction score? (out of 5 stars)\"))\n",
    "\n",
    "visualise_listings(airbnb_data, listings_recommender(airbnb_data, price_to_test, overall_satisfaction_to_test, neighborhood_to_test))\n",
    "print(\"-----------------------------------------------------------------------------------------------------------------------------\")\n",
    "print(\"Here are the Listing IDs of the listings that you have filtered: \", listings_recommender(airbnb_data, price_to_test, overall_satisfaction_to_test, neighborhood_to_test))"
   ]
  },
  {
   "cell_type": "markdown",
   "metadata": {},
   "source": [
    "#### For hosts"
   ]
  },
  {
   "cell_type": "code",
   "execution_count": null,
   "metadata": {},
   "outputs": [],
   "source": [
    "print(\"Here is the list of neighborhoods & the number of listings within each of them:\", results1)\n",
    "hosting_neighborhood = input(\"Which neighborhood is your listing going to be hosted in?\").upper()\n",
    "print(\"-----------------------------------------------------------------------------------------------------------------------------\")\n",
    "print(\"The average price of a night's stay around this neighborhood is: $\" + str(price_recommender(airbnb_data, hosting_neighborhood)))"
   ]
  },
  {
   "cell_type": "markdown",
   "metadata": {},
   "source": [
    "# END"
   ]
  }
 ],
 "metadata": {
  "kernelspec": {
   "display_name": "Python 3",
   "language": "python",
   "name": "python3"
  },
  "language_info": {
   "codemirror_mode": {
    "name": "ipython",
    "version": 3
   },
   "file_extension": ".py",
   "mimetype": "text/x-python",
   "name": "python",
   "nbconvert_exporter": "python",
   "pygments_lexer": "ipython3",
   "version": "3.7.4"
  }
 },
 "nbformat": 4,
 "nbformat_minor": 2
}
